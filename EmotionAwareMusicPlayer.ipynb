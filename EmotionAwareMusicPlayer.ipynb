{
  "nbformat": 4,
  "nbformat_minor": 0,
  "metadata": {
    "colab": {
      "name": "Untitled1.ipynb",
      "version": "0.3.2",
      "provenance": [],
      "collapsed_sections": [],
      "include_colab_link": true
    },
    "kernelspec": {
      "name": "python3",
      "display_name": "Python 3"
    }
  },
  "cells": [
    {
      "cell_type": "markdown",
      "metadata": {
        "id": "view-in-github",
        "colab_type": "text"
      },
      "source": [
        "<a href=\"https://colab.research.google.com/github/RiddhimGupta/MachineLearning/blob/master/EmotionAwareMusicPlayer.ipynb\" target=\"_parent\"><img src=\"https://colab.research.google.com/assets/colab-badge.svg\" alt=\"Open In Colab\"/></a>"
      ]
    },
    {
      "cell_type": "code",
      "metadata": {
        "id": "irrYYiP6cVoW",
        "colab_type": "code",
        "outputId": "a413bf50-6cc5-43f0-db94-5754790cecd1",
        "colab": {
          "base_uri": "https://localhost:8080/",
          "height": 54
        }
      },
      "source": [
        "from google.colab import drive\n",
        "drive.mount('/content/gdrive')"
      ],
      "execution_count": 1,
      "outputs": [
        {
          "output_type": "stream",
          "text": [
            "Drive already mounted at /content/gdrive; to attempt to forcibly remount, call drive.mount(\"/content/gdrive\", force_remount=True).\n"
          ],
          "name": "stdout"
        }
      ]
    },
    {
      "cell_type": "code",
      "metadata": {
        "id": "oAKh1I9ydCLf",
        "colab_type": "code",
        "colab": {}
      },
      "source": [
        "angry_data = 'gdrive/My Drive/dataset/angry'\n",
        "happy_data = 'gdrive/My Drive/dataset/happy'\n",
        "neutral_data = 'gdrive/My Drive/dataset/neutral'\n",
        "sad_data = 'gdrive/My Drive/dataset/sad'"
      ],
      "execution_count": 0,
      "outputs": []
    },
    {
      "cell_type": "code",
      "metadata": {
        "id": "Cx4Aun7pbi7N",
        "colab_type": "code",
        "colab": {}
      },
      "source": [
        "##############################################\n",
        "#CAPTURE IMAGE#\n",
        "##############################################\n",
        "from IPython.display import display, Javascript\n",
        "from google.colab.output import eval_js\n",
        "from base64 import b64decode\n",
        "\n",
        "def take_photo(filename='photo.jpg', quality=0.8):\n",
        "  js = Javascript('''\n",
        "    async function takePhoto(quality) {\n",
        "      const div = document.createElement('div');\n",
        "      const capture = document.createElement('button');\n",
        "      capture.textContent = 'Capture';\n",
        "      div.appendChild(capture);\n",
        "\n",
        "      const video = document.createElement('video');\n",
        "      video.style.display = 'block';\n",
        "      const stream = await navigator.mediaDevices.getUserMedia({video: true});\n",
        "\n",
        "      document.body.appendChild(div);\n",
        "      div.appendChild(video);\n",
        "      video.srcObject = stream;\n",
        "      await video.play();\n",
        "\n",
        "      // Resize the output to fit the video element.\n",
        "      google.colab.output.setIframeHeight(document.documentElement.scrollHeight, true);\n",
        "\n",
        "      // Wait for Capture to be clicked.\n",
        "      await new Promise((resolve) => capture.onclick = resolve);\n",
        "\n",
        "      const canvas = document.createElement('canvas');\n",
        "      canvas.width = video.videoWidth;\n",
        "      canvas.height = video.videoHeight;\n",
        "      canvas.getContext('2d').drawImage(video, 0, 0);\n",
        "      stream.getVideoTracks()[0].stop();\n",
        "      div.remove();\n",
        "      return canvas.toDataURL('image/jpeg', quality);\n",
        "    }\n",
        "    ''')\n",
        "  display(js)\n",
        "  data = eval_js('takePhoto({})'.format(quality))\n",
        "  binary = b64decode(data.split(',')[1])\n",
        "  with open(filename, 'wb') as f:\n",
        "    f.write(binary)\n",
        "  return filename"
      ],
      "execution_count": 0,
      "outputs": []
    },
    {
      "cell_type": "code",
      "metadata": {
        "id": "XXxF2KJNevUz",
        "colab_type": "code",
        "colab": {}
      },
      "source": [
        "from __future__ import absolute_import\n",
        "from __future__ import division\n",
        "from __future__ import print_function\n",
        "\n",
        "import argparse\n",
        "import sys\n",
        "import time\n",
        "\n",
        "import numpy as np\n",
        "import tensorflow as tf\n",
        "\n",
        "def load_graph(model_file):\n",
        "  graph = tf.Graph()\n",
        "  graph_def = tf.GraphDef()\n",
        "\n",
        "  with open(model_file, \"rb\") as f:\n",
        "    graph_def.ParseFromString(f.read())\n",
        "  with graph.as_default():\n",
        "    tf.import_graph_def(graph_def)\n",
        "\n",
        "  return graph\n",
        "\n",
        "def read_tensor_from_image_file(file_name, input_height=299, input_width=299,\n",
        "\t\t\t\tinput_mean=0, input_std=255):\n",
        "  input_name = \"file_reader\"\n",
        "  output_name = \"normalized\"\n",
        "  file_reader = tf.read_file(file_name, input_name)\n",
        "  if file_name.endswith(\".png\"):\n",
        "    image_reader = tf.image.decode_png(file_reader, channels = 3,\n",
        "                                       name='png_reader')\n",
        "  elif file_name.endswith(\".gif\"):\n",
        "    image_reader = tf.squeeze(tf.image.decode_gif(file_reader,\n",
        "                                                  name='gif_reader'))\n",
        "  elif file_name.endswith(\".bmp\"):\n",
        "    image_reader = tf.image.decode_bmp(file_reader, name='bmp_reader')\n",
        "  else:\n",
        "    image_reader = tf.image.decode_jpeg(file_reader, channels = 3,\n",
        "                                        name='jpeg_reader')\n",
        "  float_caster = tf.cast(image_reader, tf.float32)\n",
        "  dims_expander = tf.expand_dims(float_caster, 0);\n",
        "  resized = tf.image.resize_bilinear(dims_expander, [input_height, input_width])\n",
        "  normalized = tf.divide(tf.subtract(resized, [input_mean]), [input_std])\n",
        "  sess = tf.Session()\n",
        "  result = sess.run(normalized)\n",
        "\n",
        "  return result\n",
        "\n",
        "def load_labels(label_file):\n",
        "  label = []\n",
        "  proto_as_ascii_lines = tf.gfile.GFile(label_file).readlines()\n",
        "  for l in proto_as_ascii_lines:\n",
        "    label.append(l.rstrip())\n",
        "  return label\n",
        "\n",
        "def main(img):\n",
        "  file_name = img\n",
        "  model_file = \"retrained_graph.pb\"\n",
        "  label_file = \"retrained_labels.txt\"\n",
        "  input_height = 224\n",
        "  input_width = 224\n",
        "  input_mean = 128\n",
        "  input_std = 128\n",
        "  input_layer = \"input\"\n",
        "  output_layer = \"final_result\"\n",
        "\n",
        "  parser = argparse.ArgumentParser()\n",
        "  parser.add_argument(\"--image\", help=\"image to be processed\")\n",
        "  parser.add_argument(\"--graph\", help=\"graph/model to be executed\")\n",
        "  parser.add_argument(\"--labels\", help=\"name of file containing labels\")\n",
        "  parser.add_argument(\"--input_height\", type=int, help=\"input height\")\n",
        "  parser.add_argument(\"--input_width\", type=int, help=\"input width\")\n",
        "  parser.add_argument(\"--input_mean\", type=int, help=\"input mean\")\n",
        "  parser.add_argument(\"--input_std\", type=int, help=\"input std\")\n",
        "  parser.add_argument(\"--input_layer\", help=\"name of input layer\")\n",
        "  parser.add_argument(\"--output_layer\", help=\"name of output layer\")\n",
        "  args = parser.parse_args()\n",
        "\n",
        "  if args.graph:\n",
        "    model_file = args.graph\n",
        "  if args.image:\n",
        "    file_name = args.image\n",
        "  if args.labels:\n",
        "    label_file = args.labels\n",
        "  if args.input_height:\n",
        "    input_height = args.input_height\n",
        "  if args.input_width:\n",
        "    input_width = args.input_width\n",
        "  if args.input_mean:\n",
        "    input_mean = args.input_mean\n",
        "  if args.input_std:\n",
        "    input_std = args.input_std\n",
        "  if args.input_layer:\n",
        "    input_layer = args.input_layer\n",
        "  if args.output_layer:\n",
        "    output_layer = args.output_layer\n",
        "\n",
        "  graph = load_graph(model_file)\n",
        "  t = read_tensor_from_image_file(file_name,\n",
        "                                  input_height=input_height,\n",
        "                                  input_width=input_width,\n",
        "                                  input_mean=input_mean,\n",
        "                                  input_std=input_std)\n",
        "\n",
        "  input_name = \"import/\" + input_layer\n",
        "  output_name = \"import/\" + output_layer\n",
        "  input_operation = graph.get_operation_by_name(input_name);\n",
        "  output_operation = graph.get_operation_by_name(output_name);\n",
        "\n",
        "\n",
        "  with tf.Session(graph=graph) as sess:\n",
        "    start = time.time()\n",
        "    results = sess.run(output_operation.outputs[0],\n",
        "                      {input_operation.outputs[0]: t})\n",
        "    end=time.time()\n",
        "  results = np.squeeze(results)\n",
        "\n",
        "  top_k = results.argsort()[-5:][::-1]\n",
        "  labels = load_labels(label_file)\n",
        "\n",
        "  for i in top_k:\n",
        "    return labels[i]\n"
      ],
      "execution_count": 0,
      "outputs": []
    },
    {
      "cell_type": "code",
      "metadata": {
        "id": "XnMtNy36GwE4",
        "colab_type": "code",
        "colab": {
          "base_uri": "https://localhost:8080/",
          "height": 598
        },
        "outputId": "0e12e457-8b49-475c-f508-bde8f04cbb21"
      },
      "source": [
        "!python retrain.py --output_graph=retrained_graph.pb --output_labels=retrained_labels.txt --architecture=MobileNet_1.0_224 --image_dir=images"
      ],
      "execution_count": 5,
      "outputs": [
        {
          "output_type": "stream",
          "text": [
            "WARNING: Logging before flag parsing goes to stderr.\n",
            "W0726 21:14:58.264244 140222537369472 deprecation_wrapper.py:119] From retrain.py:1257: The name tf.app.run is deprecated. Please use tf.compat.v1.app.run instead.\n",
            "\n",
            "W0726 21:14:58.264952 140222537369472 deprecation_wrapper.py:119] From retrain.py:901: The name tf.logging.set_verbosity is deprecated. Please use tf.compat.v1.logging.set_verbosity instead.\n",
            "\n",
            "W0726 21:14:58.265118 140222537369472 deprecation_wrapper.py:119] From retrain.py:901: The name tf.logging.INFO is deprecated. Please use tf.compat.v1.logging.INFO instead.\n",
            "\n",
            "W0726 21:14:58.265232 140222537369472 deprecation_wrapper.py:119] From retrain.py:772: The name tf.gfile.Exists is deprecated. Please use tf.io.gfile.exists instead.\n",
            "\n",
            "W0726 21:14:58.265364 140222537369472 deprecation_wrapper.py:119] From retrain.py:773: The name tf.gfile.DeleteRecursively is deprecated. Please use tf.io.gfile.rmtree instead.\n",
            "\n",
            "W0726 21:14:58.265636 140222537369472 deprecation_wrapper.py:119] From retrain.py:774: The name tf.gfile.MakeDirs is deprecated. Please use tf.io.gfile.makedirs instead.\n",
            "\n",
            "W0726 21:14:58.512643 140222537369472 deprecation.py:323] From retrain.py:244: FastGFile.__init__ (from tensorflow.python.platform.gfile) is deprecated and will be removed in a future version.\n",
            "Instructions for updating:\n",
            "Use tf.gfile.GFile.\n",
            "W0726 21:14:58.512952 140222537369472 deprecation_wrapper.py:119] From retrain.py:245: The name tf.GraphDef is deprecated. Please use tf.compat.v1.GraphDef instead.\n",
            "\n",
            "W0726 21:14:58.659512 140222537369472 deprecation_wrapper.py:119] From retrain.py:119: The name tf.logging.error is deprecated. Please use tf.compat.v1.logging.error instead.\n",
            "\n",
            "E0726 21:14:58.659752 140222537369472 retrain.py:119] Image directory 'images' not found.\n",
            "Traceback (most recent call last):\n",
            "  File \"retrain.py\", line 1257, in <module>\n",
            "    tf.app.run(main=main, argv=[sys.argv[0]] + unparsed)\n",
            "  File \"/usr/local/lib/python3.6/dist-packages/tensorflow/python/platform/app.py\", line 40, in run\n",
            "    _run(main=main, argv=argv, flags_parser=_parse_flags_tolerate_undef)\n",
            "  File \"/usr/local/lib/python3.6/dist-packages/absl/app.py\", line 300, in run\n",
            "    _run_main(main, args)\n",
            "  File \"/usr/local/lib/python3.6/dist-packages/absl/app.py\", line 251, in _run_main\n",
            "    sys.exit(main(argv))\n",
            "  File \"retrain.py\", line 920, in main\n",
            "    class_count = len(image_lists.keys())\n",
            "AttributeError: 'NoneType' object has no attribute 'keys'\n"
          ],
          "name": "stdout"
        }
      ]
    },
    {
      "cell_type": "code",
      "metadata": {
        "id": "I92ThTT5IfDu",
        "colab_type": "code",
        "colab": {}
      },
      "source": [
        "!python label_image.py"
      ],
      "execution_count": 0,
      "outputs": []
    },
    {
      "cell_type": "code",
      "metadata": {
        "id": "P2Fk3xSj4Bj0",
        "colab_type": "code",
        "colab": {
          "base_uri": "https://localhost:8080/",
          "height": 782
        },
        "outputId": "13646e97-4e44-4ddf-f981-f38c877af307"
      },
      "source": [
        "import cv2\n",
        "from IPython.display import Image\n",
        "import numpy\n",
        "\n",
        "# We load the xml file\n",
        "classifier = cv2.CascadeClassifier('haarcascade_frontalface_alt.xml')\n",
        "try:\n",
        "  filename = take_photo()\n",
        "  print('Saved to {}'.format(filename))\n",
        "  \n",
        "  # Show the image which was just taken.\n",
        "  display(Image(filename))\n",
        "except Exception as err:\n",
        "  # Errors will be thrown if the user does not have a webcam or if they do not\n",
        "  # grant the page permission to access it.\n",
        "  print(str(err))\n",
        "\n",
        "from PIL import Image\n",
        "img = Image.open(\"photo.jpg\")\n",
        "transposed_img = img.transpose(Image.FLIP_LEFT_RIGHT)\n",
        "transposed_img.save('photo.jpg')\n",
        "img = Image.open(\"photo.jpg\")\n",
        "im = numpy.asarray(img)\n",
        "    \n",
        "    # Resize the image to speed up detection\n",
        "    #mini = cv2.resize(im, (int(im.shape[1]/size), int(im.shape[0]/size)))\n",
        "gray = cv2.cvtColor(im, cv2.COLOR_BGR2GRAY)\n",
        "clahe = cv2.createCLAHE(clipLimit=2.0, tileGridSize=(8,8))\n",
        "clahe_image = clahe.apply(gray)\n",
        "cv2.imwrite(\"tesqt.jpg\", clahe_image)\n",
        " #To run classifier \n",
        "face = classifier.detectMultiScale(clahe_image, scaleFactor=1.1, minNeighbors=15, minSize=(10, 10), flags=cv2.CASCADE_SCALE_IMAGE)\n",
        "#To draw rectangle around detected face\n",
        "for (x, y, w, h) in face:\n",
        "    cv2.rectangle(im, (x, y), (x+w, y+h), (0, 0, 255), 2)    \n",
        "    #Save just the rectangle faces in SubRecFaces\n",
        "    faceslice = im[y:y+h, x:x+w]\n",
        "    #draw it on \"frame\", (coordinates), (size), (RGB color), thickness 2    \n",
        "    cv2.imwrite(\"test.jpg\", faceslice)\n",
        "    text =main(\"test.jpg\")\n",
        "    text = text.title()# Title Case looks Stunning.\n",
        "    font = cv2.FONT_HERSHEY_TRIPLEX\n",
        "    cv2.putText(im, text,(x+w,y), font, 1, (0,0,255), 2)\n",
        "    # Show the image\n",
        "cv2.imwrite(\"capture.jpg\", im)\n",
        "#key = cv2.waitKey(10)\n",
        "    \n",
        "    # if Esc key is press then break out of the loop\n",
        "#if key == 27:#The Esc key\n",
        "  # break\n"
      ],
      "execution_count": 12,
      "outputs": [
        {
          "output_type": "display_data",
          "data": {
            "application/javascript": [
              "\n",
              "    async function takePhoto(quality) {\n",
              "      const div = document.createElement('div');\n",
              "      const capture = document.createElement('button');\n",
              "      capture.textContent = 'Capture';\n",
              "      div.appendChild(capture);\n",
              "\n",
              "      const video = document.createElement('video');\n",
              "      video.style.display = 'block';\n",
              "      const stream = await navigator.mediaDevices.getUserMedia({video: true});\n",
              "\n",
              "      document.body.appendChild(div);\n",
              "      div.appendChild(video);\n",
              "      video.srcObject = stream;\n",
              "      await video.play();\n",
              "\n",
              "      // Resize the output to fit the video element.\n",
              "      google.colab.output.setIframeHeight(document.documentElement.scrollHeight, true);\n",
              "\n",
              "      // Wait for Capture to be clicked.\n",
              "      await new Promise((resolve) => capture.onclick = resolve);\n",
              "\n",
              "      const canvas = document.createElement('canvas');\n",
              "      canvas.width = video.videoWidth;\n",
              "      canvas.height = video.videoHeight;\n",
              "      canvas.getContext('2d').drawImage(video, 0, 0);\n",
              "      stream.getVideoTracks()[0].stop();\n",
              "      div.remove();\n",
              "      return canvas.toDataURL('image/jpeg', quality);\n",
              "    }\n",
              "    "
            ],
            "text/plain": [
              "<IPython.core.display.Javascript object>"
            ]
          },
          "metadata": {
            "tags": []
          }
        },
        {
          "output_type": "stream",
          "text": [
            "Saved to photo.jpg\n"
          ],
          "name": "stdout"
        },
        {
          "output_type": "display_data",
          "data": {
            "image/jpeg": "[encoded data removed]",
            "text/plain": [
              "<IPython.core.display.Image object>"
            ]
          },
          "metadata": {
            "tags": []
          }
        },
        {
          "output_type": "stream",
          "text": [
            "usage: ipykernel_launcher.py [-h] [--image IMAGE] [--graph GRAPH]\n",
            "                             [--labels LABELS] [--input_height INPUT_HEIGHT]\n",
            "                             [--input_width INPUT_WIDTH]\n",
            "                             [--input_mean INPUT_MEAN] [--input_std INPUT_STD]\n",
            "                             [--input_layer INPUT_LAYER]\n",
            "                             [--output_layer OUTPUT_LAYER]\n",
            "ipykernel_launcher.py: error: unrecognized arguments: -f /root/.local/share/jupyter/runtime/kernel-dd02955d-0aeb-4c07-83af-a5bdc39fe339.json\n"
          ],
          "name": "stderr"
        },
        {
          "output_type": "error",
          "ename": "SystemExit",
          "evalue": "ignored",
          "traceback": [
            "An exception has occurred, use %tb to see the full traceback.\n",
            "\u001b[0;31mSystemExit\u001b[0m\u001b[0;31m:\u001b[0m 2\n"
          ]
        },
        {
          "output_type": "stream",
          "text": [
            "/usr/local/lib/python3.6/dist-packages/IPython/core/interactiveshell.py:2890: UserWarning: To exit: use 'exit', 'quit', or Ctrl-D.\n",
            "  warn(\"To exit: use 'exit', 'quit', or Ctrl-D.\", stacklevel=1)\n"
          ],
          "name": "stderr"
        }
      ]
    },
    {
      "cell_type": "code",
      "metadata": {
        "id": "tohKKtgW4TtR",
        "colab_type": "code",
        "colab": {}
      },
      "source": [
        ""
      ],
      "execution_count": 0,
      "outputs": []
    }
  ]
}