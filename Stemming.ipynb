{
  "nbformat": 4,
  "nbformat_minor": 0,
  "metadata": {
    "colab": {
      "name": "Untitled6.ipynb",
      "version": "0.3.2",
      "provenance": [],
      "include_colab_link": true
    },
    "kernelspec": {
      "name": "python3",
      "display_name": "Python 3"
    }
  },
  "cells": [
    {
      "cell_type": "markdown",
      "metadata": {
        "id": "view-in-github",
        "colab_type": "text"
      },
      "source": [
        "<a href=\"https://colab.research.google.com/github/RiddhimGupta/MachineLearning/blob/master/Stemming.ipynb\" target=\"_parent\"><img src=\"https://colab.research.google.com/assets/colab-badge.svg\" alt=\"Open In Colab\"/></a>"
      ]
    },
    {
      "cell_type": "code",
      "metadata": {
        "id": "DoA2iQXdbW9J",
        "colab_type": "code",
        "colab": {}
      },
      "source": [
        "#STEMMING spam and ham detection \n",
        "#Lemmatization\n",
        "#slashml.blogspot.com"
      ],
      "execution_count": 0,
      "outputs": []
    },
    {
      "cell_type": "code",
      "metadata": {
        "id": "SEUaUAKBcKxa",
        "colab_type": "code",
        "colab": {}
      },
      "source": [
        "from nltk import stem\n",
        "from nltk.stem import PorterStemmer # for stemming\n",
        "from nltk.stem import WordNetLemmatizer # for lemmatizer\n",
        "import time"
      ],
      "execution_count": 0,
      "outputs": []
    },
    {
      "cell_type": "code",
      "metadata": {
        "id": "QzK5vjh3durs",
        "colab_type": "code",
        "colab": {}
      },
      "source": [
        "#dir(stem)"
      ],
      "execution_count": 0,
      "outputs": []
    },
    {
      "cell_type": "code",
      "metadata": {
        "id": "lyvSs42wdvri",
        "colab_type": "code",
        "colab": {}
      },
      "source": [
        "#Stemming\n",
        "port=PorterStemmer()"
      ],
      "execution_count": 0,
      "outputs": []
    },
    {
      "cell_type": "code",
      "metadata": {
        "id": "mlBUcd7HePWJ",
        "colab_type": "code",
        "colab": {
          "base_uri": "https://localhost:8080/",
          "height": 204
        },
        "outputId": "28c94832-8af4-4fec-9c86-4f491ca514fc"
      },
      "source": [
        "#word supply \n",
        "for i in ['going','goes','gone','go','intelligent','intelligence','intelligently','feet','foot','cars','car']:\n",
        "  print(port.stem(i))\n",
        "  time.sleep(1)"
      ],
      "execution_count": 18,
      "outputs": [
        {
          "output_type": "stream",
          "text": [
            "go\n",
            "goe\n",
            "gone\n",
            "go\n",
            "intellig\n",
            "intellig\n",
            "intellig\n",
            "feet\n",
            "foot\n",
            "car\n",
            "car\n"
          ],
          "name": "stdout"
        }
      ]
    },
    {
      "cell_type": "code",
      "metadata": {
        "id": "lEHLSXDleVcx",
        "colab_type": "code",
        "colab": {}
      },
      "source": [
        "#speech scrape token stopwords stemming->replace"
      ],
      "execution_count": 0,
      "outputs": []
    }
  ]
}